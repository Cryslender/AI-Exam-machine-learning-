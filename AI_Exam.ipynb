{
  "nbformat": 4,
  "nbformat_minor": 0,
  "metadata": {
    "colab": {
      "provenance": [],
      "authorship_tag": "ABX9TyMX6ufbsB3VkwlGApzW1glu",
      "include_colab_link": true
    },
    "kernelspec": {
      "name": "python3",
      "display_name": "Python 3"
    },
    "language_info": {
      "name": "python"
    }
  },
  "cells": [
    {
      "cell_type": "markdown",
      "metadata": {
        "id": "view-in-github",
        "colab_type": "text"
      },
      "source": [
        "<a href=\"https://colab.research.google.com/github/Cryslender/AI-Exam-machine-learning-/blob/main/AI_Exam.ipynb\" target=\"_parent\"><img src=\"https://colab.research.google.com/assets/colab-badge.svg\" alt=\"Open In Colab\"/></a>"
      ]
    },
    {
      "cell_type": "markdown",
      "source": [
        "#Import Necessary Modules"
      ],
      "metadata": {
        "id": "qox8QP1wG1Y2"
      }
    },
    {
      "cell_type": "code",
      "execution_count": 6,
      "metadata": {
        "id": "xH6DQmDUGUkU"
      },
      "outputs": [],
      "source": [
        "!pip install keras-tuner -q\n",
        "import keras_tuner\n",
        "import tensorflow as tf\n",
        "from sklearn.metrics import confusion_matrix, accuracy_score\n",
        "import matplotlib.pyplot as plt\n",
        "import seaborn as sns\n",
        "import networkx as nx\n",
        "import numpy as np\n",
        "from tabulate import tabulate\n",
        "from keras.utils.vis_utils import plot_model\n",
        "import keras\n",
        "from keras.models import Sequential\n",
        "from keras.layers import Dense, Dropout\n",
        "from keras import layers\n",
        "%matplotlib inline\n",
        "np.random.seed(0)"
      ]
    },
    {
      "cell_type": "markdown",
      "source": [
        "#Dataset"
      ],
      "metadata": {
        "id": "USvV5K0vOGtL"
      }
    },
    {
      "cell_type": "code",
      "source": [
        "#importing MNIST dataset from keras to use it in the program\n",
        "from keras.datasets import mnist\n",
        "(x_train, y_train), (x_test, y_test) = mnist.load_data()\n",
        "print(\"Training Dataset\")\n",
        "print(\"X_Training: \", str(x_train.shape))\n",
        "print(\"Y_Training: \", str(y_train.shape))\n",
        "print(\"\\nTesting Dataset\")\n",
        "print(\"X_Testing: \", str(x_test.shape))\n",
        "print(\"Y_Testing: \", str(y_test.shape))"
      ],
      "metadata": {
        "colab": {
          "base_uri": "https://localhost:8080/"
        },
        "id": "1CvUjkBHGcYT",
        "outputId": "5111e3a4-1fd0-49ad-f5a3-1dee92607cff"
      },
      "execution_count": 7,
      "outputs": [
        {
          "output_type": "stream",
          "name": "stdout",
          "text": [
            "Training Dataset\n",
            "X_Training:  (60000, 28, 28)\n",
            "Y_Training:  (60000,)\n",
            "\n",
            "Testing Dataset\n",
            "X_Testing:  (10000, 28, 28)\n",
            "Y_Testing:  (10000,)\n"
          ]
        }
      ]
    },
    {
      "cell_type": "markdown",
      "source": [
        "#Data Pre-processing"
      ],
      "metadata": {
        "id": "W8juOPb1qm-U"
      }
    },
    {
      "cell_type": "code",
      "source": [
        "#ploting the dataset\n",
        "fig,axes = plt.subplots(1, 10, figsize=(15,15))\n",
        "\n",
        "for i in range(0, 10):\n",
        "  axes[i].imshow(x_train[y_train == i][0], cmap=plt.get_cmap('gray'))\n",
        "  axes[i].set_title(\"Label: {}\".format(i), fontsize=14)"
      ],
      "metadata": {
        "colab": {
          "base_uri": "https://localhost:8080/",
          "height": 182
        },
        "id": "1g3nH414qtBu",
        "outputId": "54d3694b-3e6e-4759-c587-ad0e2f9297a4"
      },
      "execution_count": 8,
      "outputs": [
        {
          "output_type": "display_data",
          "data": {
            "text/plain": [
              "<Figure size 1500x1500 with 10 Axes>"
            ],
            "image/png": "[encoded data removed]"
          },
          "metadata": {}
        }
      ]
    },
    {
      "cell_type": "code",
      "source": [
        "# Count the occurrences of each digit in the training set\n",
        "train_digit_count = np.bincount(y_train)\n",
        "\n",
        "# Count the occurrences of each digit in the testing set\n",
        "test_digit_count = np.bincount(y_test)\n",
        "\n",
        "# Calculate the subtotal by adding the counts from the training and testing sets\n",
        "subtotal_digit_count = train_digit_count + test_digit_count\n",
        "\n",
        "# Calculate the total counts by summing the subtotal counts\n",
        "total_digit_count = np.sum(subtotal_digit_count)\n",
        "\n",
        "# Generate x-axis labels for each digit\n",
        "digits = np.arange(10)\n",
        "\n",
        "# Create a table\n",
        "table = []\n",
        "for digit, train_count, test_count, subtotal_count in zip(\n",
        "    digits, train_digit_count, test_digit_count, subtotal_digit_count):\n",
        "    table.append([digit, train_count, test_count, subtotal_count])\n",
        "\n",
        "# Append a row for the subtotal\n",
        "table.append([\"Subtotal\", np.sum(train_digit_count), np.sum(test_digit_count), np.sum(subtotal_digit_count)])\n",
        "\n",
        "# Append a row for the total\n",
        "table.append([\"Total\", \"\", \"\", total_digit_count])\n",
        "\n",
        "# Define the table headers\n",
        "headers = [\"Digit\", \"Training Data\", \"Testing Data\", \"Subtotal\"]\n",
        "\n",
        "# Print the table\n",
        "print(tabulate(table, headers, tablefmt=\"fancy_grid\"))"
      ],
      "metadata": {
        "colab": {
          "base_uri": "https://localhost:8080/"
        },
        "id": "wIB_WEM7YY9b",
        "outputId": "3c977920-1f5b-4423-bc71-277857b6a1be"
      },
      "execution_count": 10,
      "outputs": [
        {
          "output_type": "stream",
          "name": "stdout",
          "text": [
            "╒══════════╤═════════════════╤════════════════╤════════════╕\n",
            "│ Digit    │ Training Data   │ Testing Data   │   Subtotal │\n",
            "╞══════════╪═════════════════╪════════════════╪════════════╡\n",
            "│ 0        │ 5923            │ 980            │       6903 │\n",
            "├──────────┼─────────────────┼────────────────┼────────────┤\n",
            "│ 1        │ 6742            │ 1135           │       7877 │\n",
            "├──────────┼─────────────────┼────────────────┼────────────┤\n",
            "│ 2        │ 5958            │ 1032           │       6990 │\n",
            "├──────────┼─────────────────┼────────────────┼────────────┤\n",
            "│ 3        │ 6131            │ 1010           │       7141 │\n",
            "├──────────┼─────────────────┼────────────────┼────────────┤\n",
            "│ 4        │ 5842            │ 982            │       6824 │\n",
            "├──────────┼─────────────────┼────────────────┼────────────┤\n",
            "│ 5        │ 5421            │ 892            │       6313 │\n",
            "├──────────┼─────────────────┼────────────────┼────────────┤\n",
            "│ 6        │ 5918            │ 958            │       6876 │\n",
            "├──────────┼─────────────────┼────────────────┼────────────┤\n",
            "│ 7        │ 6265            │ 1028           │       7293 │\n",
            "├──────────┼─────────────────┼────────────────┼────────────┤\n",
            "│ 8        │ 5851            │ 974            │       6825 │\n",
            "├──────────┼─────────────────┼────────────────┼────────────┤\n",
            "│ 9        │ 5949            │ 1009           │       6958 │\n",
            "├──────────┼─────────────────┼────────────────┼────────────┤\n",
            "│ Subtotal │ 60000           │ 10000          │      70000 │\n",
            "├──────────┼─────────────────┼────────────────┼────────────┤\n",
            "│ Total    │                 │                │      70000 │\n",
            "╘══════════╧═════════════════╧════════════════╧════════════╛\n"
          ]
        }
      ]
    },
    {
      "cell_type": "code",
      "source": [
        "# Normalize Data\n",
        "x_train = x_train / 255.0\n",
        "x_test = x_test / 255.0\n",
        "# Reshape Data\n",
        "x_train = x_train.reshape(x_train.shape[0], -1)\n",
        "x_test = x_test.reshape(x_test.shape[0], -1)\n",
        "print(x_train.shape)"
      ],
      "metadata": {
        "colab": {
          "base_uri": "https://localhost:8080/"
        },
        "id": "fffL9bWOsJ79",
        "outputId": "0d3e61d6-9dd5-49b7-a1b5-46d2db776b5e"
      },
      "execution_count": 90,
      "outputs": [
        {
          "output_type": "stream",
          "name": "stdout",
          "text": [
            "(60000, 784)\n"
          ]
        }
      ]
    },
    {
      "cell_type": "code",
      "source": [
        "#convert the lables into one-hot enconded vector\n",
        "num_classes=10\n",
        "y_train = keras.utils.to_categorical(y_train, num_classes)\n",
        "y_test = keras.utils.to_categorical(y_test, num_classes)\n",
        "\n",
        "for i in range(10):\n",
        "  print(y_train[i])"
      ],
      "metadata": {
        "colab": {
          "base_uri": "https://localhost:8080/"
        },
        "id": "UjIIg40S2QKG",
        "outputId": "14ece90f-d9f0-4050-b592-e2b093900819"
      },
      "execution_count": 91,
      "outputs": [
        {
          "output_type": "stream",
          "name": "stdout",
          "text": [
            "[0. 0. 0. 0. 0. 1. 0. 0. 0. 0.]\n",
            "[1. 0. 0. 0. 0. 0. 0. 0. 0. 0.]\n",
            "[0. 0. 0. 0. 1. 0. 0. 0. 0. 0.]\n",
            "[0. 1. 0. 0. 0. 0. 0. 0. 0. 0.]\n",
            "[0. 0. 0. 0. 0. 0. 0. 0. 0. 1.]\n",
            "[0. 0. 1. 0. 0. 0. 0. 0. 0. 0.]\n",
            "[0. 1. 0. 0. 0. 0. 0. 0. 0. 0.]\n",
            "[0. 0. 0. 1. 0. 0. 0. 0. 0. 0.]\n",
            "[0. 1. 0. 0. 0. 0. 0. 0. 0. 0.]\n",
            "[0. 0. 0. 0. 1. 0. 0. 0. 0. 0.]\n"
          ]
        }
      ]
    },
    {
      "cell_type": "markdown",
      "source": [
        "#Model Design(ANN Model Structure)"
      ],
      "metadata": {
        "id": "fbEwesdgsaaU"
      }
    },
    {
      "cell_type": "code",
      "source": [
        "#define model to build using dense layers for flatten array of images\n",
        "def define_model(units, activation, dropout, lr):\n",
        "    model = keras.Sequential()\n",
        "    model.add(layers.Flatten())\n",
        "    model.add(layers.Dense(units=units, activation=activation))\n",
        "    if dropout:\n",
        "        model.add(layers.Dropout(rate=0.25))\n",
        "    model.add(layers.Dense(10, activation=\"softmax\"))\n",
        "    model.compile(\n",
        "        optimizer=keras.optimizers.Adam(learning_rate=lr),\n",
        "        loss=\"categorical_crossentropy\",\n",
        "        metrics=[\"accuracy\"],\n",
        "    )\n",
        "    return model\n",
        "\n",
        "#Create hyperparameters for the model to use tuner search on\n",
        "def build_model(hp):\n",
        "    units = hp.Int(\"units\", min_value=32, max_value=512, step=32)\n",
        "    activation = hp.Choice(\"activation\", [\"relu\", \"tanh\",\"softmax\",\"sigmoid\",\"linear\"])\n",
        "    dropout = hp.Boolean(\"dropout\")\n",
        "    lr = hp.Float(\"lr\", min_value=1e-4, max_value=1e-2, sampling=\"log\")\n",
        "    # call existing model-building code with the hyperparameter values.\n",
        "    model = define_model(\n",
        "        units=units, activation=activation, dropout=dropout, lr=lr\n",
        "    )\n",
        "    return model"
      ],
      "metadata": {
        "id": "5LoGKrV_0_dG"
      },
      "execution_count": 96,
      "outputs": []
    },
    {
      "cell_type": "markdown",
      "source": [
        "#Model training and validation"
      ],
      "metadata": {
        "id": "u1msnM-fsxbB"
      }
    },
    {
      "cell_type": "code",
      "source": [
        "#define tuner class search called Random Search to search randomlly for perfect paramaeters on maximun trial of 3 since the dataset is big\n",
        "tuner = keras_tuner.RandomSearch(\n",
        "    hypermodel=build_model,\n",
        "    objective=\"val_accuracy\",\n",
        "    max_trials=3,\n",
        "    executions_per_trial=2,\n",
        "    overwrite=True,\n",
        "    directory=\"my_document\",\n",
        "    project_name=\"AI Exam\",\n",
        ")\n",
        "tuner.search_space_summary()\n",
        "tuner.search(x_train, y_train, epochs=2, validation_data=(x_train, y_train))"
      ],
      "metadata": {
        "colab": {
          "base_uri": "https://localhost:8080/"
        },
        "id": "MLJ_Q96Vs0lF",
        "outputId": "73943eb3-e4bc-4146-ab36-e9476e82732e"
      },
      "execution_count": 97,
      "outputs": [
        {
          "output_type": "stream",
          "name": "stdout",
          "text": [
            "Trial 3 Complete [00h 01m 24s]\n",
            "val_accuracy: 0.9139416813850403\n",
            "\n",
            "Best val_accuracy So Far: 0.9467083513736725\n",
            "Total elapsed time: 00h 04m 08s\n"
          ]
        }
      ]
    },
    {
      "cell_type": "code",
      "source": [
        "tuner.results_summary()"
      ],
      "metadata": {
        "colab": {
          "base_uri": "https://localhost:8080/"
        },
        "id": "hlXyNLKoKbmS",
        "outputId": "cb49acd6-3fc3-4359-c5d6-00ff418778e6"
      },
      "execution_count": 98,
      "outputs": [
        {
          "output_type": "stream",
          "name": "stdout",
          "text": [
            "Results summary\n",
            "Results in my_document/AI Exam\n",
            "Showing 10 best trials\n",
            "Objective(name=\"val_accuracy\", direction=\"max\")\n",
            "\n",
            "Trial 1 summary\n",
            "Hyperparameters:\n",
            "units: 288\n",
            "activation: sigmoid\n",
            "dropout: False\n",
            "lr: 0.0005761315077006069\n",
            "Score: 0.9467083513736725\n",
            "\n",
            "Trial 2 summary\n",
            "Hyperparameters:\n",
            "units: 192\n",
            "activation: linear\n",
            "dropout: False\n",
            "lr: 0.0020187460474604367\n",
            "Score: 0.9139416813850403\n",
            "\n",
            "Trial 0 summary\n",
            "Hyperparameters:\n",
            "units: 512\n",
            "activation: softmax\n",
            "dropout: False\n",
            "lr: 0.00011840716382574924\n",
            "Score: 0.6506833136081696\n"
          ]
        }
      ]
    },
    {
      "cell_type": "code",
      "source": [
        "# Get the top 2 hyperparameters.\n",
        "best_hps = tuner.get_best_hyperparameters(5)\n",
        "# Build the model with the best hp.\n",
        "model = build_model(best_hps[0])\n",
        "# Fit with the entire dataset.\n",
        "x_all = np.concatenate((x_train, x_test))\n",
        "y_all = np.concatenate((y_train, y_test))\n",
        "model.fit(x=x_all, y=y_all, epochs=2)"
      ],
      "metadata": {
        "colab": {
          "base_uri": "https://localhost:8080/"
        },
        "id": "1FtSLttk9pz3",
        "outputId": "b4f5573e-9004-4358-dde7-7d3286f8a5df"
      },
      "execution_count": 99,
      "outputs": [
        {
          "output_type": "stream",
          "name": "stdout",
          "text": [
            "Epoch 1/2\n",
            "2188/2188 [==============================] - 10s 5ms/step - loss: 0.3922 - accuracy: 0.8964\n",
            "Epoch 2/2\n",
            "2188/2188 [==============================] - 10s 4ms/step - loss: 0.2046 - accuracy: 0.9414\n"
          ]
        },
        {
          "output_type": "execute_result",
          "data": {
            "text/plain": [
              "<keras.callbacks.History at 0x7fc2dbad4400>"
            ]
          },
          "metadata": {},
          "execution_count": 99
        }
      ]
    },
    {
      "cell_type": "code",
      "source": [
        "# Generate a visualization of the model\n",
        "plot_model(model, to_file='ann_structure.png', show_shapes=True, show_layer_names=True)"
      ],
      "metadata": {
        "id": "mJVB4cFsHKdE"
      },
      "execution_count": null,
      "outputs": []
    },
    {
      "cell_type": "markdown",
      "source": [
        "#Model evaluation and testing"
      ],
      "metadata": {
        "id": "lF6wXhKPtDSb"
      }
    },
    {
      "cell_type": "code",
      "source": [
        "#test the model on test data\n",
        "test_loss, test_acc = model.evaluate(x_test, y_test)\n",
        "print(\"Test Loss: {}, Test Accuracy: {}\".format(test_loss, test_acc))"
      ],
      "metadata": {
        "colab": {
          "base_uri": "https://localhost:8080/"
        },
        "id": "V5USgicdtUlN",
        "outputId": "ed90fd7c-09bf-4be4-a41a-b37d2123d911"
      },
      "execution_count": 101,
      "outputs": [
        {
          "output_type": "stream",
          "name": "stdout",
          "text": [
            "313/313 [==============================] - 1s 3ms/step - loss: 0.1525 - accuracy: 0.9553\n",
            "Test Loss: 0.15245452523231506, Test Accuracy: 0.955299973487854\n"
          ]
        }
      ]
    },
    {
      "cell_type": "code",
      "source": [
        "# check if the model predict the exert value\n",
        "y_pred = model.predict(x_test)\n",
        "y_pred_classes = np.argmax(y_pred, axis=1)\n",
        "random_idx = np.random.choice(len(x_test))\n",
        "x_sample = x_test[random_idx]\n",
        "y_true = np.argmax(y_test, axis=1)\n",
        "y_sample_true = y_true[random_idx]\n",
        "y_sample_pred_class = y_pred_classes[random_idx]\n",
        "\n",
        "plt.title(\"Predicted: {}, True: {}\".format(y_sample_pred_class, y_sample_true), fontsize=16)\n",
        "plt.imshow(x_sample.reshape(28, 28), cmap='gray')"
      ],
      "metadata": {
        "colab": {
          "base_uri": "https://localhost:8080/",
          "height": 489
        },
        "id": "hD9fcFY1tZdQ",
        "outputId": "0fd9d876-a0b3-47e2-e489-b8f7400c8f49"
      },
      "execution_count": 106,
      "outputs": [
        {
          "output_type": "stream",
          "name": "stdout",
          "text": [
            "313/313 [==============================] - 1s 2ms/step\n"
          ]
        },
        {
          "output_type": "execute_result",
          "data": {
            "text/plain": [
              "<matplotlib.image.AxesImage at 0x7fc2d86b83d0>"
            ]
          },
          "metadata": {},
          "execution_count": 106
        },
        {
          "output_type": "display_data",
          "data": {
            "text/plain": [
              "<Figure size 640x480 with 1 Axes>"
            ],
            "image/png": "[encoded data removed]"
          },
          "metadata": {}
        }
      ]
    },
    {
      "cell_type": "markdown",
      "source": [
        "#Confusion Matrix"
      ],
      "metadata": {
        "id": "AEU0wEYTt0UN"
      }
    },
    {
      "cell_type": "code",
      "source": [
        "#display all the predicted imagies class and the error that model did during testing\n",
        "confusion_mtx = confusion_matrix(y_true, y_pred_classes)\n",
        "\n",
        "# Plot\n",
        "fig, ax = plt.subplots(figsize=(8,5))\n",
        "ax = sns.heatmap(confusion_mtx, annot=True, fmt='d', ax=ax, cmap=\"Blues\")\n",
        "ax.set_xlabel('Predicted Label')\n",
        "ax.set_ylabel('True Label')\n",
        "ax.set_title('Confusion Matrix');"
      ],
      "metadata": {
        "colab": {
          "base_uri": "https://localhost:8080/",
          "height": 487
        },
        "id": "43cyPYqDt3GV",
        "outputId": "9c084e3f-1086-4764-eea0-3ea259815627"
      },
      "execution_count": 107,
      "outputs": [
        {
          "output_type": "display_data",
          "data": {
            "text/plain": [
              "<Figure size 800x500 with 2 Axes>"
            ],
            "image/png": "[encoded data removed]"
          },
          "metadata": {}
        }
      ]
    }
  ]
}